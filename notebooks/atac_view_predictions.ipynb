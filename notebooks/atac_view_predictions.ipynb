{
 "cells": [
  {
   "cell_type": "code",
   "execution_count": 1,
   "metadata": {},
   "outputs": [],
   "source": [
    "import sys\n",
    "import os\n",
    "sys.path.append(os.path.abspath(\"../src/\"))\n",
    "import model.util as model_util\n",
    "import atac_model.profile_models as profile_models\n",
    "import atac_model.profile_performance as profile_performance\n",
    "import atac_model.train_profile_model as train_profile_model\n",
    "import feature.util as feature_util\n",
    "import atac_model.make_profile_dataset as make_profile_dataset\n",
    "import plot.viz_sequence as viz_sequence\n",
    "import torch\n",
    "import numpy as np\n",
    "import pandas as pd\n",
    "import matplotlib.pyplot as plt\n",
    "import json\n",
    "import tqdm"
   ]
  },
  {
   "cell_type": "markdown",
   "metadata": {},
   "source": [
    "### Define paths for the model and data of interest"
   ]
  },
  {
   "cell_type": "code",
   "execution_count": 9,
   "metadata": {},
   "outputs": [],
   "source": [
    "# Define the paths to the files and model, and some constants\n",
    "base_path = \"/users/amtseng/test/atac_tracks/ENCSR220ASC\"                   \n",
    "peak_beds = [os.path.join(base_path, item) for item in [                    \n",
    "    \"rep1_peaks_ENCFF550DRF.bed.gz\",                                        \n",
    "    \"rep2_peaks_ENCFF348ZZP.bed.gz\",                                        \n",
    "    \"rep3_peaks_ENCFF801YCD.bed.gz\"                                         \n",
    "]]                                                                          \n",
    "profile_hdf5 = os.path.join(base_path, \"profiles.hdf5\")\n",
    "peaks_bed = peak_beds[0]\n",
    "\n",
    "reference_fasta = \"/users/amtseng/genomes/hg38.fasta\"\n",
    "chrom_sizes = \"/users/amtseng/genomes/hg38.canon.chrom.sizes\"\n",
    "input_length = 1346\n",
    "profile_length = 1000\n",
    "num_tasks = 4"
   ]
  },
  {
   "cell_type": "code",
   "execution_count": 3,
   "metadata": {},
   "outputs": [],
   "source": [
    "torch.set_grad_enabled(True)\n",
    "device = torch.device(\"cuda\") if torch.cuda.is_available() else torch.device(\"cpu\")"
   ]
  },
  {
   "cell_type": "code",
   "execution_count": 34,
   "metadata": {},
   "outputs": [],
   "source": [
    "# Import the model without priors\n",
    "model_path = \"/users/amtseng/att_priors/models/trained_models/profile_models/ATAC/A549_prior/1/model_ckpt_epoch_1.pt\"\n",
    "model = model_util.restore_model(profile_models.ProfileTFBindingPredictor, noprior_model_path)\n",
    "model.eval()\n",
    "model = noprior_model.to(device) "
   ]
  },
  {
   "cell_type": "markdown",
   "metadata": {},
   "source": [
    "### Data preparation\n",
    "Use classes from `make_profile_dataset` to prepare positive and negative inputs."
   ]
  },
  {
   "cell_type": "code",
   "execution_count": 7,
   "metadata": {},
   "outputs": [],
   "source": [
    "# Maps coordinates to 1-hot encoded sequence\n",
    "coords_to_seq = feature_util.CoordsToSeq(reference_fasta, center_size_to_use=input_length)\n",
    "\n",
    "# Maps coordinates to profiles\n",
    "coords_to_vals = make_profile_dataset.CoordsToVals(profile_hdf5, profile_length)\n",
    "\n",
    "# Maps many coordinates to inputs sequences and profiles for the network\n",
    "def coords_to_network_inputs(coords):\n",
    "    input_seq = coords_to_seq(coords)\n",
    "    profs = coords_to_vals(coords)\n",
    "    return input_seq, np.swapaxes(profs, 1, 2)"
   ]
  },
  {
   "cell_type": "markdown",
   "metadata": {},
   "source": [
    "### Predicting and plotting profiles"
   ]
  },
  {
   "cell_type": "code",
   "execution_count": 10,
   "metadata": {},
   "outputs": [],
   "source": [
    "# Import set of positive peaks\n",
    "pos_coords_table = pd.read_csv(peaks_bed, sep=\"\\t\", header=None, compression=\"gzip\")\n",
    "\n",
    "# Negative coordinate sampling\n",
    "neg_coord_sampler = make_profile_dataset.GenomeIntervalSampler(chrom_sizes, input_length)"
   ]
  },
  {
   "cell_type": "code",
   "execution_count": 24,
   "metadata": {},
   "outputs": [],
   "source": [
    "def predict_coords(model, coords, att_prior_pos_limit=160):\n",
    "    \"\"\"\n",
    "    Fetches the necessary data from the given coordinate and runs it through the\n",
    "    network. Returns the network predictions, the true values from the dataset, and\n",
    "    the input gradients. The returned profiles are in terms of raw counts, and the\n",
    "    returned counts are also raw. Returned values are all NumPy arrays.\n",
    "    \"\"\"\n",
    "    input_seqs, profiles = coords_to_network_inputs(coords)\n",
    "    \n",
    "    input_seqs = model_util.place_tensor(torch.tensor(input_seqs)).float()\n",
    "    true_profs = model_util.place_tensor(torch.tensor(profiles)).float()\n",
    "\n",
    "    model.zero_grad()\n",
    "    \n",
    "    # Run through the model\n",
    "    input_seqs.requires_grad = True  # Set gradient required\n",
    "    logit_pred_profs, log_pred_counts = model(input_seqs)\n",
    "    \n",
    "    # Compute input gradients\n",
    "    input_grads, = torch.autograd.grad(\n",
    "        logit_pred_profs, input_seqs,\n",
    "        grad_outputs=model_util.place_tensor(torch.ones(logit_pred_profs.size())),\n",
    "        retain_graph=True, create_graph=True\n",
    "    )\n",
    "    input_grads_np = input_grads.detach().cpu().numpy()\n",
    "    input_seqs_np = input_seqs.detach().cpu().numpy()\n",
    "    \n",
    "    input_grads = input_grads * input_seqs\n",
    "    \n",
    "    status = model_util.place_tensor(torch.ones(input_seqs.size()[0]))\n",
    "    loss, (corr_loss, att_loss), (prof_loss, count_loss) = \\\n",
    "        train_profile_model.model_loss(\n",
    "            model, true_profs, logit_pred_profs, log_pred_counts, 0, 20, 50,\n",
    "            None, 1, 3, \"fourier\", 160, None, False,\n",
    "            input_grads, status, None\n",
    "    )\n",
    "    print(\"Profile loss\\tCounts loss\\tPrior loss\")\n",
    "    print(\"%6.3f\\t%6.3f\\t%6.3f\" % (\n",
    "        prof_loss.item(), count_loss.item(), att_loss.item(),\n",
    "    ))\n",
    "    \n",
    "    # Convert logit profile predictions to probabilities\n",
    "    log_pred_profs = profile_models.profile_logits_to_log_probs(logit_pred_profs, axis=2)\n",
    "    \n",
    "    # Add true profiles to get true counts\n",
    "    true_counts = torch.sum(true_profs, dim=2)\n",
    "    \n",
    "    return log_pred_profs.detach().cpu().numpy(), log_pred_counts.detach().cpu().numpy(), true_profs.cpu().numpy(), true_counts.cpu().numpy(), input_seqs_np, input_grads_np"
   ]
  },
  {
   "cell_type": "code",
   "execution_count": 16,
   "metadata": {},
   "outputs": [],
   "source": [
    "def plot_profiles(pred_profs, true_profs, title=None):\n",
    "    \"\"\"\n",
    "    Plots the given profiles.\n",
    "    Both arguments should be T x O NumPy arrays, where the subarrays are the\n",
    "    tracks for the plus and minus strand, for each task.\n",
    "    If `normalize` is True, normalize the profiles to be probabilities (i.e.\n",
    "    each track sums to 1)\n",
    "    \"\"\"\n",
    "    num_tasks, prof_length = pred_profs.shape\n",
    "    fig, ax = plt.subplots(num_tasks, figsize=(15, num_tasks * 2))\n",
    "    if num_tasks == 1:\n",
    "        ax = [ax]\n",
    "    for i in range(num_tasks):\n",
    "        ax[i].plot(true_profs[i], color=\"royalblue\", alpha=0.5)\n",
    "        ax[i].plot(pred_profs[i], color=\"darkslateblue\")\n",
    "    if title:\n",
    "        fig.suptitle(title)"
   ]
  },
  {
   "cell_type": "markdown",
   "metadata": {},
   "source": [
    "### Computing/plotting Fourier transforms"
   ]
  },
  {
   "cell_type": "code",
   "execution_count": 17,
   "metadata": {},
   "outputs": [],
   "source": [
    "def dft(signal):\n",
    "    fourier_coeffs = np.fft.fft(signal)\n",
    "    fourier_freqs = 2 * np.pi * np.fft.fftfreq(signal.size)\n",
    "    fourier_freqs = fourier_freqs[:int(len(fourier_freqs) / 2)]  # Only the positive frequencies\n",
    "    mags = np.abs(fourier_coeffs)[:int(len(fourier_coeffs) / 2)]  # Frequency magnitudes are symmetric\n",
    "    return fourier_freqs, mags"
   ]
  },
  {
   "cell_type": "code",
   "execution_count": 18,
   "metadata": {},
   "outputs": [],
   "source": [
    "def plot_grad_and_fft(input_grad, input_seq, include_dc=False, pos_limit=None):\n",
    "    assert len(input_grad.shape) == 2\n",
    "    assert len(input_seq.shape) == 2\n",
    "    \n",
    "    grad_x_seq = np.sum(input_grad * input_seq, axis=1)\n",
    "    abs_grad = np.abs(grad_x_seq)\n",
    "    freqs, mags = dft(abs_grad)\n",
    "    \n",
    "    if not include_dc:\n",
    "        freqs, mags = freqs[1:], mags[1:]\n",
    "    \n",
    "    # Plot the original signal, absolute value, and the DFT\n",
    "    fig, ax = plt.subplots(3, 1, figsize=(20, 10))\n",
    "    ax[0].plot(grad_x_seq)\n",
    "    ax[0].set_title(\"Input gradient * input sequence\")\n",
    "    ax[0].margins(0)\n",
    "    ax[1].plot(abs_grad)\n",
    "    ax[1].set_title(\"|Input gradient * input sequence|\")\n",
    "    ax[1].margins(0)\n",
    "    ax[2].plot(freqs, mags, color=\"red\")\n",
    "    ax[2].set_xlabel(\"Frequency (radians)\")\n",
    "    ax[2].set_ylabel(\"|Frequency component|\")\n",
    "    if pos_limit is not None:\n",
    "        pos_limit_radians = pos_limit * 2 * np.pi / len(grad_x_seq)\n",
    "        ax[2].axvline(x=pos_limit_radians, color=\"black\")\n",
    "    ax[2].margins(0)\n",
    "    fig.tight_layout()"
   ]
  },
  {
   "cell_type": "markdown",
   "metadata": {},
   "source": [
    "### View predictions"
   ]
  },
  {
   "cell_type": "code",
   "execution_count": 27,
   "metadata": {},
   "outputs": [],
   "source": [
    "def predict_and_plot(model, chrom, start, end, viz_slice=slice(600, 700)):\n",
    "    log_pred_profs, log_pred_counts, true_profs, true_counts, input_seqs, input_grads = \\\n",
    "        predict_coords(model, [(chrom, start, end)] * 50, att_prior_pos_limit=160)\n",
    "\n",
    "    pred_prof_probs = np.exp(log_pred_profs)\n",
    "    true_prof_probs = true_profs / np.sum(true_profs, axis=2, keepdims=True)\n",
    "    plot_profiles(pred_prof_probs[0], true_prof_probs[0])\n",
    "\n",
    "    plot_grad_and_fft(input_grads[0], input_seqs[0], pos_limit=160)\n",
    "    viz_sequence.plot_weights(input_grads[0][viz_slice])\n",
    "    viz_sequence.plot_weights((input_grads[0] * input_seqs[0])[viz_slice])"
   ]
  },
  {
   "cell_type": "code",
   "execution_count": 29,
   "metadata": {},
   "outputs": [
    {
     "data": {
      "text/html": [
       "<div>\n",
       "<style scoped>\n",
       "    .dataframe tbody tr th:only-of-type {\n",
       "        vertical-align: middle;\n",
       "    }\n",
       "\n",
       "    .dataframe tbody tr th {\n",
       "        vertical-align: top;\n",
       "    }\n",
       "\n",
       "    .dataframe thead th {\n",
       "        text-align: right;\n",
       "    }\n",
       "</style>\n",
       "<table border=\"1\" class=\"dataframe\">\n",
       "  <thead>\n",
       "    <tr style=\"text-align: right;\">\n",
       "      <th></th>\n",
       "      <th>0</th>\n",
       "      <th>1</th>\n",
       "      <th>2</th>\n",
       "      <th>3</th>\n",
       "      <th>4</th>\n",
       "      <th>5</th>\n",
       "      <th>6</th>\n",
       "      <th>7</th>\n",
       "      <th>8</th>\n",
       "      <th>9</th>\n",
       "    </tr>\n",
       "  </thead>\n",
       "  <tbody>\n",
       "    <tr>\n",
       "      <th>55382</th>\n",
       "      <td>chr7</td>\n",
       "      <td>2364892</td>\n",
       "      <td>2365156</td>\n",
       "      <td>atacseq_170613.t0_rep1.dedup.masked.sorted_pea...</td>\n",
       "      <td>100</td>\n",
       "      <td>.</td>\n",
       "      <td>5.85106</td>\n",
       "      <td>12.49423</td>\n",
       "      <td>10.01817</td>\n",
       "      <td>107</td>\n",
       "    </tr>\n",
       "    <tr>\n",
       "      <th>32848</th>\n",
       "      <td>chr2</td>\n",
       "      <td>20962976</td>\n",
       "      <td>20963285</td>\n",
       "      <td>atacseq_170613.t0_rep1.dedup.masked.sorted_pea...</td>\n",
       "      <td>65</td>\n",
       "      <td>.</td>\n",
       "      <td>4.42478</td>\n",
       "      <td>8.90508</td>\n",
       "      <td>6.58095</td>\n",
       "      <td>164</td>\n",
       "    </tr>\n",
       "    <tr>\n",
       "      <th>5917</th>\n",
       "      <td>chr1</td>\n",
       "      <td>241658046</td>\n",
       "      <td>241658246</td>\n",
       "      <td>atacseq_170613.t0_rep1.dedup.masked.sorted_pea...</td>\n",
       "      <td>38</td>\n",
       "      <td>.</td>\n",
       "      <td>4.08982</td>\n",
       "      <td>6.01348</td>\n",
       "      <td>3.83810</td>\n",
       "      <td>108</td>\n",
       "    </tr>\n",
       "    <tr>\n",
       "      <th>27878</th>\n",
       "      <td>chr17</td>\n",
       "      <td>77449939</td>\n",
       "      <td>77450147</td>\n",
       "      <td>atacseq_170613.t0_rep1.dedup.masked.sorted_pea...</td>\n",
       "      <td>22</td>\n",
       "      <td>.</td>\n",
       "      <td>2.65625</td>\n",
       "      <td>4.29447</td>\n",
       "      <td>2.25095</td>\n",
       "      <td>71</td>\n",
       "    </tr>\n",
       "    <tr>\n",
       "      <th>59625</th>\n",
       "      <td>chr8</td>\n",
       "      <td>28385900</td>\n",
       "      <td>28386866</td>\n",
       "      <td>atacseq_170613.t0_rep1.dedup.masked.sorted_pea...</td>\n",
       "      <td>266</td>\n",
       "      <td>.</td>\n",
       "      <td>7.34463</td>\n",
       "      <td>29.73138</td>\n",
       "      <td>26.69077</td>\n",
       "      <td>283</td>\n",
       "    </tr>\n",
       "  </tbody>\n",
       "</table>\n",
       "</div>"
      ],
      "text/plain": [
       "           0          1          2  \\\n",
       "55382   chr7    2364892    2365156   \n",
       "32848   chr2   20962976   20963285   \n",
       "5917    chr1  241658046  241658246   \n",
       "27878  chr17   77449939   77450147   \n",
       "59625   chr8   28385900   28386866   \n",
       "\n",
       "                                                       3    4  5        6  \\\n",
       "55382  atacseq_170613.t0_rep1.dedup.masked.sorted_pea...  100  .  5.85106   \n",
       "32848  atacseq_170613.t0_rep1.dedup.masked.sorted_pea...   65  .  4.42478   \n",
       "5917   atacseq_170613.t0_rep1.dedup.masked.sorted_pea...   38  .  4.08982   \n",
       "27878  atacseq_170613.t0_rep1.dedup.masked.sorted_pea...   22  .  2.65625   \n",
       "59625  atacseq_170613.t0_rep1.dedup.masked.sorted_pea...  266  .  7.34463   \n",
       "\n",
       "              7         8    9  \n",
       "55382  12.49423  10.01817  107  \n",
       "32848   8.90508   6.58095  164  \n",
       "5917    6.01348   3.83810  108  \n",
       "27878   4.29447   2.25095   71  \n",
       "59625  29.73138  26.69077  283  "
      ]
     },
     "execution_count": 29,
     "metadata": {},
     "output_type": "execute_result"
    }
   ],
   "source": [
    "pos_coords_table.sample(5)"
   ]
  },
  {
   "cell_type": "code",
   "execution_count": null,
   "metadata": {
    "scrolled": false
   },
   "outputs": [],
   "source": [
    "chrom, start, end = \"chr7\", 2364892, 2365156\n",
    "predict_and_plot(model, chrom, start, end, viz_slice=slice(600, 700))"
   ]
  }
 ],
 "metadata": {
  "kernelspec": {
   "display_name": "Python 3",
   "language": "python",
   "name": "python3"
  },
  "language_info": {
   "codemirror_mode": {
    "name": "ipython",
    "version": 3
   },
   "file_extension": ".py",
   "mimetype": "text/x-python",
   "name": "python",
   "nbconvert_exporter": "python",
   "pygments_lexer": "ipython3",
   "version": "3.7.4"
  }
 },
 "nbformat": 4,
 "nbformat_minor": 2
}
