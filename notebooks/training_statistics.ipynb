{
 "cells": [
  {
   "cell_type": "code",
   "execution_count": 1,
   "metadata": {},
   "outputs": [],
   "source": [
    "import json\n",
    "import os\n",
    "import numpy as np"
   ]
  },
  {
   "cell_type": "code",
   "execution_count": 2,
   "metadata": {},
   "outputs": [],
   "source": [
    "def import_metrics_json(models_path, run_num):\n",
    "    \"\"\"\n",
    "    Looks in {models_path}/{run_num}/metrics.json and returns the contents as a\n",
    "    Python dictionary. Returns None if the path does not exist.\n",
    "    \"\"\"\n",
    "    path = os.path.join(models_path, str(run_num), \"metrics.json\")\n",
    "    if not os.path.exists(path):\n",
    "        return None\n",
    "    with open(path, \"r\") as f:\n",
    "        return json.load(f)"
   ]
  },
  {
   "cell_type": "code",
   "execution_count": 3,
   "metadata": {},
   "outputs": [],
   "source": [
    "def get_best_metric(models_path, metric_name, reduce_func, compare_func):\n",
    "    \"\"\"\n",
    "    Given the path to a set of runs, determines the run with the best metric value,\n",
    "    for the given `metric_name`. For each run, the function `reduce_func` must take\n",
    "    the array of all values for that metric and return a (scalar) value to use for\n",
    "    comparison. The best metric value is determined by `metric_compare_func`, which\n",
    "    must take in two arguments, and return whether or not the _first_ one is better.\n",
    "    Returns the number of the run, the value associated with that run, and a dict of\n",
    "    all the values used for comparison.\n",
    "    \"\"\"\n",
    "    # Get the metrics, ignoring empty or nonexistent metrics.json files\n",
    "    metrics = {run_num : import_metrics_json(models_path, run_num) for run_num in os.listdir(models_path)}\n",
    "    metrics = {key : val for key, val in metrics.items() if val}  # Remove empties\n",
    "    \n",
    "    # Get the best value\n",
    "    best_run, best_val, all_vals = None, None, {}\n",
    "    for run_num in metrics.keys():\n",
    "        try:\n",
    "            val = reduce_func(metrics[run_num][metric_name][\"values\"])\n",
    "            all_vals[run_num] = val\n",
    "            if best_val is None or compare_func(val, best_val):\n",
    "                best_val, best_run = val, run_num\n",
    "        except Exception:\n",
    "            print(\"Warning: Was not able to compute values for run %s\" % run_num)\n",
    "            continue\n",
    "    return best_run, best_val, all_vals"
   ]
  },
  {
   "cell_type": "code",
   "execution_count": 4,
   "metadata": {},
   "outputs": [],
   "source": [
    "def get_best_metric_at_best_epoch(models_path, metric_name, reduce_func, compare_func):\n",
    "    \"\"\"\n",
    "    Given the path to a set of runs, determines the run with the best metric value,\n",
    "    for the given `metric_name`. For each run, the function `reduce_func` must take\n",
    "    the array of all values for that metric and return a (scalar) value FOR EACH\n",
    "    SUBARRAY/VALUE in the value array to use for comparison. The best metric value\n",
    "    is determined by `metric_compare_func`, which must take in two arguments, and\n",
    "    return whether or not the _first_ one is better.\n",
    "    Returns the number of the run, the (one-indexed) number of the epch, the value\n",
    "    associated with that run and epoch, and a dict of all the values used for\n",
    "    comparison (mapping pair of run number and epoch number to value).\n",
    "    \"\"\"\n",
    "    # Get the metrics, ignoring empty or nonexistent metrics.json files\n",
    "    metrics = {run_num : import_metrics_json(models_path, run_num) for run_num in os.listdir(models_path)}\n",
    "    metrics = {key : val for key, val in metrics.items() if val}  # Remove empties\n",
    "    \n",
    "    # Get the best value\n",
    "    best_run, best_epoch, best_val, all_vals = None, None, None, {}\n",
    "    for run_num in metrics.keys():\n",
    "        try:\n",
    "            # Find the best epoch within that run\n",
    "            best_epoch_in_run, best_val_in_run = None, None\n",
    "            for i, subarr in enumerate(metrics[run_num][metric_name][\"values\"]):\n",
    "                val = reduce_func(subarr)\n",
    "                if best_val_in_run is None or compare_func(val, best_val_in_run):\n",
    "                    best_epoch_in_run, best_val_in_run = i + 1, val\n",
    "            all_vals[(run_num, best_epoch_in_run)] = best_val_in_run\n",
    "            \n",
    "            # If the best value in the best epoch of the run is best so far, update\n",
    "            if best_val is None or compare_func(best_val_in_run, best_val):\n",
    "                best_run, best_epoch, best_val = run_num, best_epoch_in_run, best_val_in_run\n",
    "        except Exception:\n",
    "            print(\"Warning: Was not able to compute values for run %s\" % run_num)\n",
    "            continue\n",
    "    return best_run, best_epoch, best_val, all_vals"
   ]
  },
  {
   "cell_type": "code",
   "execution_count": 5,
   "metadata": {
    "scrolled": true
   },
   "outputs": [],
   "source": [
    "def print_validation_profile_and_prior_losses(condition):\n",
    "    models_path = \"/users/amtseng/att_priors/models/trained_models/profile_models/%s/\" % condition\n",
    "    \n",
    "    print(\"Best profile loss overall:\")\n",
    "    best_run, best_epoch, best_val, all_vals = get_best_metric_at_best_epoch(\n",
    "        models_path,\n",
    "        \"val_prof_corr_losses\",\n",
    "        lambda values: np.mean(values),\n",
    "        lambda x, y: x < y\n",
    "    )\n",
    "    print(\"\\tBest run: %s\" % best_run)\n",
    "    print(\"\\tBest epoch in run: %d\" % best_epoch)\n",
    "    print(\"\\tAssociated value: %s\" % best_val)\n",
    "    \n",
    "    print(\"Best epoch in each run:\")\n",
    "    for key in sorted(all_vals.keys(), key=lambda p: int(p[0])):\n",
    "        print(\"\\tRun %s, epoch %d: %6.2f\" % (key[0], key[1], all_vals[key]))\n",
    "        \n",
    "    print(\"All validation profile and prior losses:\")\n",
    "    for key in sorted(all_vals.keys(), key=lambda p: int(p[0])):\n",
    "        print(key[0])\n",
    "        metrics = import_metrics_json(models_path, key[0])\n",
    "        print(\"\\t\" + \" \".join([\"%6.2f\" % i for i in np.mean(metrics[\"train_prof_corr_losses\"][\"values\"], axis=1)]))\n",
    "        print(\"\\t\" + \" \".join([\"%6.2f\" % i for i in np.mean(metrics[\"val_prof_corr_losses\"][\"values\"], axis=1)]))\n",
    "        print(\"\\t\" + \" \".join([\"%6.4f\" % i for i in np.mean(metrics[\"val_att_losses\"][\"values\"], axis=1)]))\n",
    "    return all_vals"
   ]
  },
  {
   "cell_type": "code",
   "execution_count": 66,
   "metadata": {
    "scrolled": true
   },
   "outputs": [
    {
     "name": "stdout",
     "output_type": "stream",
     "text": [
      "Best profile loss overall:\n",
      "\tBest run: 2\n",
      "\tBest epoch in run: 6\n",
      "\tAssociated value: 32860.378459323925\n",
      "Best epoch in each run:\n",
      "\tRun 1, epoch 5: 33233.75\n",
      "\tRun 2, epoch 6: 32860.38\n",
      "\tRun 3, epoch 5: 33104.19\n",
      "\tRun 4, epoch 7: 33327.95\n",
      "\tRun 5, epoch 6: 32880.38\n",
      "\tRun 6, epoch 4: 33061.09\n",
      "\tRun 7, epoch 5: 33048.38\n",
      "\tRun 8, epoch 7: 32988.43\n",
      "\tRun 9, epoch 7: 33145.20\n",
      "\tRun 10, epoch 4: 33011.23\n",
      "All validation profile and prior losses:\n",
      "1\n",
      "\t37117.23 33264.01 32285.28 31680.12 31221.30 30872.30 30601.36 30366.47 30165.29 29980.59\n",
      "\t34548.90 33558.57 33247.28 33393.79 33233.75 33317.79 33373.54 33253.93 33314.38 33638.90\n",
      "\t0.0000 0.0000 0.0000 0.0000 0.0000 0.0000 0.0000 0.0000 0.0000 0.0000\n",
      "2\n",
      "\t37627.17 33363.81 32287.71 31662.00 31210.07 30848.54 30537.40 30297.78 30093.72 29923.85\n",
      "\t35163.63 33828.07 33111.24 33403.28 33552.62 32860.38 32897.82 33395.88 33136.21 33203.17\n",
      "\t0.0000 0.0000 0.0000 0.0000 0.0000 0.0000 0.0000 0.0000 0.0000 0.0000\n",
      "3\n",
      "\t37409.34 33555.89 32393.70 31812.99 31360.36 30998.40 30726.48 30504.86 30256.15 30074.47\n",
      "\t35041.25 33987.87 33709.12 33479.84 33104.19 33333.02 33353.48 33173.81 33656.86 33668.49\n",
      "\t0.0000 0.0000 0.0000 0.0000 0.0000 0.0000 0.0000 0.0000 0.0000 0.0000\n",
      "4\n",
      "\t37107.06 33321.82 32325.06 31707.10 31260.29 30948.98 30649.05 30395.55 30199.18 30011.41\n",
      "\t34885.25 33765.96 33368.92 33558.57 33450.08 33412.15 33327.95 33380.01 33495.76 33840.85\n",
      "\t0.0000 0.0000 0.0000 0.0000 0.0000 0.0000 0.0000 0.0000 0.0000 0.0000\n",
      "5\n",
      "\t37296.98 33257.76 32329.55 31720.99 31267.72 30924.54 30625.18 30407.47 30187.17 30021.60\n",
      "\t34162.34 33820.13 33112.90 33036.66 33081.62 32880.38 32955.85 33103.86 33106.89 33205.09\n",
      "\t0.0000 0.0000 0.0000 0.0000 0.0000 0.0000 0.0000 0.0000 0.0000 0.0000\n",
      "6\n",
      "\t37436.66 33624.75 32472.27 31843.63 31418.01 31050.95 30751.08 30506.87 30298.02 30122.43\n",
      "\t35003.59 34713.47 33655.85 33061.09 33202.02 33232.32 33369.20 33096.92 33244.43 33397.13\n",
      "\t0.0000 0.0000 0.0000 0.0000 0.0000 0.0000 0.0000 0.0000 0.0000 0.0000\n",
      "7\n",
      "\t36911.57 33309.16 32324.49 31745.88 31332.97 31004.35 30699.35 30462.46 30260.88 30081.78\n",
      "\t34680.76 33844.91 33162.40 33611.99 33048.38 33158.12 33363.34 33256.15 33289.30 33586.51\n",
      "\t0.0000 0.0000 0.0000 0.0000 0.0000 0.0000 0.0000 0.0000 0.0000 0.0000\n",
      "8\n",
      "\t37087.87 33378.95 32381.48 31786.03 31409.14 31018.62 30738.41 30503.78 30298.24 30132.85\n",
      "\t34548.71 33928.85 33217.01 33141.46 33172.62 33356.87 32988.43 33315.84 33561.36 33471.69\n",
      "\t0.0000 0.0000 0.0000 0.0000 0.0000 0.0000 0.0000 0.0000 0.0000 0.0000\n",
      "9\n",
      "\t37533.59 33466.61 32505.01 31906.19 31372.18 31017.09 30721.05 30483.52 30279.51 30114.23\n",
      "\t34801.75 33776.77 33704.83 33327.64 33554.58 33819.03 33145.20 33205.55 33392.03 33445.50\n",
      "\t0.0000 0.0000 0.0000 0.0000 0.0000 0.0000 0.0000 0.0000 0.0000 0.0000\n",
      "10\n",
      "\t37202.35 33689.62 32584.76 31934.62 31455.56 31075.09 30765.67 30518.06 30292.01 30112.31\n",
      "\t34366.36 33654.47 33297.14 33011.23 33163.68 33619.86 33266.92 33184.24 33628.22 33727.03\n",
      "\t0.0000 0.0000 0.0000 0.0000 0.0000 0.0000 0.0000 0.0000 0.0000 0.0000\n"
     ]
    }
   ],
   "source": [
    "noprior_vals = print_validation_profile_and_prior_losses(\"ATAC/A549\")"
   ]
  },
  {
   "cell_type": "code",
   "execution_count": 70,
   "metadata": {
    "scrolled": true
   },
   "outputs": [
    {
     "name": "stdout",
     "output_type": "stream",
     "text": [
      "Best profile loss overall:\n",
      "\tBest run: 2\n",
      "\tBest epoch in run: 5\n",
      "\tAssociated value: 32748.62573133358\n",
      "Best epoch in each run:\n",
      "\tRun 1, epoch 9: 32930.87\n",
      "\tRun 2, epoch 5: 32748.63\n",
      "\tRun 3, epoch 8: 33361.37\n",
      "\tRun 4, epoch 10: 33239.00\n",
      "\tRun 5, epoch 8: 32989.33\n",
      "\tRun 6, epoch 3: 33343.74\n",
      "All validation profile and prior losses:\n",
      "1\n",
      "\t36942.56 33374.96 32458.83 31995.86 31623.62 31331.50 31062.66 30879.92 30696.57 30552.85\n",
      "\t35564.67 33504.97 33301.95 33069.21 33137.84 33248.79 32999.48 33152.16 32930.87 33079.27\n",
      "\t0.2562 0.2461 0.2229 0.1973 0.1868 0.1795 0.1744 0.1632 0.1691 0.1541\n",
      "2\n",
      "\t37341.55 33380.12 32460.03 31979.71 31663.29 31373.36 31147.44 30929.66 30760.30 30627.08\n",
      "\t34374.31 33218.54 32873.12 32789.45 32748.63 32774.95 32993.49 32851.23 32838.32 32845.82\n",
      "\t0.2510 0.2214 0.2083 0.1976 0.1870 0.1742 0.1622 0.1663 0.1626 0.1671\n",
      "3\n",
      "\t36960.53 33340.68 32389.82 31836.62 31474.22 31227.54 30990.37 30773.27 30597.12 30457.55\n",
      "\t35456.69 33780.18 33922.18 33899.07 34199.13 33519.56 33515.19 33361.37 33790.41 33466.68\n",
      "\t0.2502 0.2331 0.2003 0.1964 0.1783 0.1809 0.1728 0.1731 0.1739 0.1667\n",
      "4\n",
      "\t37490.29 33424.56 32452.87 31941.21 31573.59 31248.41 31026.23 30831.56 30641.19 30489.20\n",
      "\t35740.95 33647.25 33910.39 33416.58 33548.17 33319.25 33499.02 33615.57 33475.93 33239.00\n",
      "\t0.2378 0.2232 0.2163 0.2062 0.1919 0.1798 0.1810 0.1631 0.1642 0.1572\n",
      "5\n",
      "\t37061.07 33355.86 32434.84 31969.52 31624.69 31328.49 31080.09 30859.64 30702.37 30561.13\n",
      "\t34696.04 33667.08 33118.90 33947.35 33185.90 33119.82 33248.01 32989.33 33121.39 33099.46\n",
      "\t0.2451 0.2182 0.2123 0.2039 0.1983 0.1851 0.1834 0.1638 0.1681 0.1666\n",
      "6\n",
      "\t37549.82 33527.76 32523.75 31978.69\n",
      "\t35899.72 33535.55 33343.74\n",
      "\t0.2391 0.2329 0.2252\n"
     ]
    }
   ],
   "source": [
    "prior_vals = print_validation_profile_and_prior_losses(\"ATAC/A549_prior\")"
   ]
  },
  {
   "cell_type": "code",
   "execution_count": 68,
   "metadata": {},
   "outputs": [
    {
     "name": "stdout",
     "output_type": "stream",
     "text": [
      "Best profile loss overall:\n",
      "\tBest run: 4\n",
      "\tBest epoch in run: 7\n",
      "\tAssociated value: 33026.0779421666\n",
      "Best epoch in each run:\n",
      "\tRun 1, epoch 6: 33162.39\n",
      "\tRun 2, epoch 8: 33072.65\n",
      "\tRun 3, epoch 6: 33064.10\n",
      "\tRun 4, epoch 7: 33026.08\n",
      "All validation profile and prior losses:\n",
      "1\n",
      "\t37195.81 33654.39 32821.08 32244.25 31825.06 31492.03 31239.98 31029.53 30843.30 30667.99\n",
      "\t34756.49 34871.70 33549.74 33774.70 33356.30 33162.39 33239.80 33622.84 33831.76 33844.03\n",
      "\t0.2019 0.1891 0.1815 0.1728 0.1679 0.1583 0.1582 0.1584 0.1489 0.1510\n",
      "2\n",
      "\t37293.28 33645.31 32768.33 32144.11 31734.37 31390.63 31128.71 30897.68 30709.03 30581.41\n",
      "\t34990.72 34261.88 33550.63 33451.46 33419.07 33611.48 33113.25 33072.65 33353.01 33371.20\n",
      "\t0.2153 0.2066 0.1684 0.1740 0.1446 0.1485 0.1527 0.1501 0.1573 0.1497\n",
      "3\n",
      "\t36988.96 33703.46 32817.21 32256.22 31847.61 31590.39 31309.95 31105.58 30879.06 30741.08\n",
      "\t34841.58 34211.77 33507.26 33301.71 33336.02 33064.10 33281.09 33446.61 33270.36 33466.66\n",
      "\t0.2031 0.1796 0.1717 0.1717 0.1610 0.1572 0.1681 0.1629 0.1610 0.1504\n",
      "4\n",
      "\t37430.72 33509.02 32517.33 31966.24 31572.06 31243.42 30991.13 30760.67 30594.78 30416.51\n",
      "\t34705.63 34330.19 33206.20 33264.74 33049.66 33334.12 33026.08 33094.60 33352.49 33569.00\n",
      "\t0.2103 0.1880 0.1739 0.1656 0.1805 0.1658 0.1679 0.1690 0.1636 0.1555\n"
     ]
    }
   ],
   "source": [
    "prior_vals = print_validation_profile_and_prior_losses(\"ATAC/A549_prior_attconstant\")"
   ]
  },
  {
   "cell_type": "code",
   "execution_count": 19,
   "metadata": {},
   "outputs": [],
   "source": [
    "import matplotlib.pyplot as plt"
   ]
  },
  {
   "cell_type": "code",
   "execution_count": 71,
   "metadata": {
    "scrolled": true
   },
   "outputs": [
    {
     "data": {
      "text/plain": [
       "<matplotlib.legend.Legend at 0x7f7e672f8050>"
      ]
     },
     "execution_count": 71,
     "metadata": {},
     "output_type": "execute_result"
    },
    {
     "data": {
      "image/png": "[encoded data removed]",
      "text/plain": [
       "<Figure size 432x288 with 1 Axes>"
      ]
     },
     "metadata": {
      "needs_background": "light"
     },
     "output_type": "display_data"
    }
   ],
   "source": [
    "bin_num = 20\n",
    "plt.figure()\n",
    "plt.hist(\n",
    "    [np.array(list(noprior_vals.values())), np.array(list(prior_vals.values()))],\n",
    "    bin_num, histtype=\"bar\",\n",
    "    label=[\"No prior\", \"With prior\"], color=[\"red\", \"blue\"])\n",
    "title = \"Histogram of validation profile loss\"\n",
    "title += \"\\nTraining on only top 1% of peaks and no negatives\"\n",
    "title += \"\\nMotif scan prior, decaying prior loss weight\"\n",
    "plt.title(title)\n",
    "plt.xlabel(\"Validation profile loss\")\n",
    "plt.legend()"
   ]
  },
  {
   "cell_type": "code",
   "execution_count": 36,
   "metadata": {},
   "outputs": [],
   "source": [
    "import scipy.stats"
   ]
  },
  {
   "cell_type": "code",
   "execution_count": 37,
   "metadata": {},
   "outputs": [
    {
     "name": "stdout",
     "output_type": "stream",
     "text": [
      "-0.7749625918351688\n",
      "0.22044974572446518\n"
     ]
    }
   ],
   "source": [
    "np_vals, p_vals = np.array(list(noprior_vals.values())), np.array(list(prior_vals.values()))\n",
    "t, p = scipy.stats.ttest_ind(np_vals, p_vals)\n",
    "print(t)\n",
    "print(p / 2)"
   ]
  }
 ],
 "metadata": {
  "kernelspec": {
   "display_name": "Python 3",
   "language": "python",
   "name": "python3"
  },
  "language_info": {
   "codemirror_mode": {
    "name": "ipython",
    "version": 3
   },
   "file_extension": ".py",
   "mimetype": "text/x-python",
   "name": "python",
   "nbconvert_exporter": "python",
   "pygments_lexer": "ipython3",
   "version": "3.7.4"
  }
 },
 "nbformat": 4,
 "nbformat_minor": 2
}
